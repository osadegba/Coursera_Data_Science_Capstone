{
    "cells": [
        {
            "cell_type": "markdown",
            "metadata": {
                "collapsed": true
            },
            "source": "Problem 1\nTo create the above dataframe:\n\nThe dataframe will consist of three columns: PostalCode, Borough, and Neighborhood\nOnly process the cells that have an assigned borough. Ignore cells with a borough that is Not assigned.\nMore than one neighborhood can exist in one postal code area. For example, in the table on the Wikipedia page, you will notice that M5A is listed twice and has two neighborhoods: Harbourfront and Regent Park. These two rows will be combined into one row with the neighborhoods separated with a comma as shown in row 11  in the above table.\nIf a cell has a borough but a Not assigned  neighborhood, then the neighborhood will be the same as the borough.\nClean your Notebook and add Markdown cells to explain your work and any assumptions you are making.\nIn the last cell of your notebook, use the .shape method to print the number of rows of your dataframe."
        },
        {
            "cell_type": "code",
            "execution_count": 1,
            "metadata": {},
            "outputs": [],
            "source": "from bs4 import BeautifulSoup\nimport requests\nimport pandas as pd"
        },
        {
            "cell_type": "code",
            "execution_count": null,
            "metadata": {},
            "outputs": [],
            "source": ""
        }
    ],
    "metadata": {
        "kernelspec": {
            "display_name": "Python 3.7",
            "language": "python",
            "name": "python3"
        },
        "language_info": {
            "codemirror_mode": {
                "name": "ipython",
                "version": 3
            },
            "file_extension": ".py",
            "mimetype": "text/x-python",
            "name": "python",
            "nbconvert_exporter": "python",
            "pygments_lexer": "ipython3",
            "version": "3.7.10"
        }
    },
    "nbformat": 4,
    "nbformat_minor": 1
}